{
 "cells": [
  {
   "cell_type": "code",
   "execution_count": 6,
   "metadata": {},
   "outputs": [],
   "source": [
    "import requests\n",
    "import time\n",
    "import os\n",
    "import json\n",
    "from dotenv import load_dotenv\n",
    "\n",
    "load_dotenv()\n",
    "\n",
    "API_KEY = os.getenv('SCOPUS_API_KEY')\n",
    "header = {\n",
    "    'X-ELS-APIKey': API_KEY,\n",
    "    'Accept': 'application/json'\n",
    "}\n",
    "# print(API_KEY)"
   ]
  },
  {
   "cell_type": "code",
   "execution_count": 7,
   "metadata": {},
   "outputs": [],
   "source": [
    "def api_search(year = 2000, offset = 0, count = 200):\n",
    "    URI = 'https://api.elsevier.com/content/search/scopus'\n",
    "    \n",
    "    AFF_NAME = 'Chulalongkorn'\n",
    "\n",
    "    res = requests.get(\n",
    "        url=URI,\n",
    "        headers=header,\n",
    "        params={\n",
    "            'start': offset,\n",
    "            'count': count,\n",
    "            'query': f'AFFIL({AFF_NAME}) AND PUBYEAR = {year}',\n",
    "            'apiKey': API_KEY,\n",
    "        }\n",
    "    )  \n",
    "    time.sleep(3)\n",
    "    if not res.ok:\n",
    "        print(res.content)\n",
    "        return None\n",
    "    \n",
    "    try:\n",
    "        return res.json()['search-results']['entry']\n",
    "    except:\n",
    "        print(res.content)\n",
    "        return None"
   ]
  },
  {
   "cell_type": "code",
   "execution_count": null,
   "metadata": {},
   "outputs": [],
   "source": [
    "def api_abstracts_retrieve(eid):\n",
    "    URI = f'https://api.elsevier.com/content/abstract/eid/{eid}'\n",
    "\n",
    "    res = requests.get(\n",
    "        url=URI,\n",
    "        headers=header,\n",
    "        params={\n",
    "            # 'view': 'FULL',\n",
    "            'apiKey': API_KEY,\n",
    "        }\n",
    "    )\n",
    "    time.sleep(3)\n",
    "\n",
    "    if not res.ok:\n",
    "        print(res.content)\n",
    "        return None\n",
    "    try:\n",
    "        data = json.loads(res.text)\n",
    "        return data\n",
    "    except:\n",
    "        print(res.content)\n",
    "        return None\n",
    "    \n",
    "def write_json(path, data):\n",
    "    directory = os.path.dirname(path)\n",
    "    if not os.path.exists(directory):\n",
    "        os.makedirs(directory)\n",
    "    \n",
    "    with open(path, 'w') as json_file:\n",
    "        json.dump(data, json_file, indent=4)"
   ]
  },
  {
   "cell_type": "code",
   "execution_count": 10,
   "metadata": {},
   "outputs": [
    {
     "name": "stdout",
     "output_type": "stream",
     "text": [
      "[0.00] Searching with year:2000, offset:0, count:10\n",
      "2-s2.0-0034561311\n"
     ]
    },
    {
     "ename": "KeyboardInterrupt",
     "evalue": "",
     "output_type": "error",
     "traceback": [
      "\u001b[1;31m---------------------------------------------------------------------------\u001b[0m",
      "\u001b[1;31mKeyboardInterrupt\u001b[0m                         Traceback (most recent call last)",
      "Cell \u001b[1;32mIn[10], line 27\u001b[0m\n\u001b[0;32m     25\u001b[0m eid \u001b[38;5;241m=\u001b[39m paper[\u001b[38;5;124m'\u001b[39m\u001b[38;5;124meid\u001b[39m\u001b[38;5;124m'\u001b[39m]\n\u001b[0;32m     26\u001b[0m \u001b[38;5;28mprint\u001b[39m(eid)\n\u001b[1;32m---> 27\u001b[0m abs_response \u001b[38;5;241m=\u001b[39m \u001b[43mapi_abstracts_retrieve\u001b[49m\u001b[43m(\u001b[49m\u001b[43meid\u001b[49m\u001b[43m)\u001b[49m\n\u001b[0;32m     28\u001b[0m \u001b[38;5;28;01mif\u001b[39;00m abs_response \u001b[38;5;241m==\u001b[39m \u001b[38;5;28;01mNone\u001b[39;00m: \n\u001b[0;32m     29\u001b[0m     elapsed_time \u001b[38;5;241m=\u001b[39m time\u001b[38;5;241m.\u001b[39mtime() \u001b[38;5;241m-\u001b[39m start_time\n",
      "Cell \u001b[1;32mIn[8], line 12\u001b[0m, in \u001b[0;36mapi_abstracts_retrieve\u001b[1;34m(eid)\u001b[0m\n\u001b[0;32m      2\u001b[0m URI \u001b[38;5;241m=\u001b[39m \u001b[38;5;124mf\u001b[39m\u001b[38;5;124m'\u001b[39m\u001b[38;5;124mhttps://api.elsevier.com/content/abstract/eid/\u001b[39m\u001b[38;5;132;01m{\u001b[39;00meid\u001b[38;5;132;01m}\u001b[39;00m\u001b[38;5;124m'\u001b[39m\n\u001b[0;32m      4\u001b[0m res \u001b[38;5;241m=\u001b[39m requests\u001b[38;5;241m.\u001b[39mget(\n\u001b[0;32m      5\u001b[0m     url\u001b[38;5;241m=\u001b[39mURI,\n\u001b[0;32m      6\u001b[0m     headers\u001b[38;5;241m=\u001b[39mheader,\n\u001b[1;32m   (...)\u001b[0m\n\u001b[0;32m     10\u001b[0m     }\n\u001b[0;32m     11\u001b[0m )\n\u001b[1;32m---> 12\u001b[0m \u001b[43mtime\u001b[49m\u001b[38;5;241;43m.\u001b[39;49m\u001b[43msleep\u001b[49m\u001b[43m(\u001b[49m\u001b[38;5;241;43m3\u001b[39;49m\u001b[43m)\u001b[49m\n\u001b[0;32m     13\u001b[0m \u001b[38;5;28;01mif\u001b[39;00m \u001b[38;5;129;01mnot\u001b[39;00m res\u001b[38;5;241m.\u001b[39mok:\n\u001b[0;32m     14\u001b[0m     \u001b[38;5;28mprint\u001b[39m(res\u001b[38;5;241m.\u001b[39mcontent)\n",
      "\u001b[1;31mKeyboardInterrupt\u001b[0m: "
     ]
    }
   ],
   "source": [
    "first_year = 2000\n",
    "last_year = 2007\n",
    "each_year = 3000\n",
    "each_chunk = 10\n",
    "\n",
    "start_time = time.time()\n",
    "total = 0\n",
    "\n",
    "years = [x for x in range(first_year, last_year+1, 1)]\n",
    "for year in years:\n",
    "\n",
    "    root_path = f'../../Raw_Extra/{year}'\n",
    "    for offset in range(0, each_year, each_chunk):\n",
    "        \n",
    "        elapsed_time = time.time() - start_time\n",
    "        print(f\"[{elapsed_time:.2f}] Searching with year:{year}, offset:{offset}, count:{each_chunk}\")\n",
    "        search_result = api_search(year=year, offset=offset, count=each_chunk)\n",
    "        if search_result == None: \n",
    "            elapsed_time = time.time() - start_time\n",
    "            print(f\"[{elapsed_time:.2f}] Search with year:{year}, offset:{offset}, count:{each_chunk} not found\")\n",
    "            break\n",
    "\n",
    "        for paper in search_result:\n",
    "\n",
    "            eid = paper['eid']\n",
    "            print(eid)\n",
    "            abs_response = api_abstracts_retrieve(eid)\n",
    "            if abs_response == None: \n",
    "                elapsed_time = time.time() - start_time\n",
    "                print(f\"[{elapsed_time:.2f}] Paper with eid:{eid} not found\")\n",
    "                continue\n",
    "            \n",
    "            path = root_path + f'/{eid}.json'\n",
    "            write_json(path=path, data=abs_response)\n",
    "        \n",
    "        total += len(search_result)\n",
    "        elapsed_time = time.time() - start_time\n",
    "        print(f\"[{elapsed_time:.2f}] loaded {total} papers\")"
   ]
  }
 ],
 "metadata": {
  "kernelspec": {
   "display_name": "dsde-cedt",
   "language": "python",
   "name": "python3"
  },
  "language_info": {
   "codemirror_mode": {
    "name": "ipython",
    "version": 3
   },
   "file_extension": ".py",
   "mimetype": "text/x-python",
   "name": "python",
   "nbconvert_exporter": "python",
   "pygments_lexer": "ipython3",
   "version": "3.11.10"
  }
 },
 "nbformat": 4,
 "nbformat_minor": 2
}
