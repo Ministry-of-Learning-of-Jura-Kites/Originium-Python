{
 "cells": [
  {
   "cell_type": "code",
   "execution_count": 12,
   "metadata": {},
   "outputs": [],
   "source": [
    "import json\n",
    "from typing import List"
   ]
  },
  {
   "cell_type": "code",
   "execution_count": 8,
   "metadata": {},
   "outputs": [],
   "source": [
    "with open(\"data_schema.json\") as file:\n",
    "    schema = json.load(file)"
   ]
  },
  {
   "cell_type": "code",
   "execution_count": 16,
   "metadata": {},
   "outputs": [],
   "source": [
    "def is_path_required(path: str | List[str]):\n",
    "    if type(path) is not list:\n",
    "        path = path.split(\".\")\n",
    "    curr_part_schema = schema\n",
    "    for property in path:\n",
    "        if property not in curr_part_schema[\"required\"]:\n",
    "            return False\n",
    "        curr_part_schema = curr_part_schema[\"properties\"][property]\n",
    "    return True"
   ]
  },
  {
   "cell_type": "code",
   "execution_count": null,
   "metadata": {},
   "outputs": [],
   "source": [
    "is_path_required([\"abstracts-retrieval-response\", \"item\", \"bibrecord\", \"citation-title\"])"
   ]
  }
 ],
 "metadata": {
  "kernelspec": {
   "display_name": "dsde-cedt",
   "language": "python",
   "name": "python3"
  },
  "language_info": {
   "codemirror_mode": {
    "name": "ipython",
    "version": 3
   },
   "file_extension": ".py",
   "mimetype": "text/x-python",
   "name": "python",
   "nbconvert_exporter": "python",
   "pygments_lexer": "ipython3",
   "version": "3.11.10"
  }
 },
 "nbformat": 4,
 "nbformat_minor": 2
}
