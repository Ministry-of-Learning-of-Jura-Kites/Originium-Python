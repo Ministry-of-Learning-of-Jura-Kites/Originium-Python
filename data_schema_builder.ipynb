{
 "cells": [
  {
   "cell_type": "code",
   "execution_count": 1,
   "metadata": {},
   "outputs": [
    {
     "name": "stdout",
     "output_type": "stream",
     "text": [
      "Requirement already satisfied: genson in c:\\users\\jj\\miniconda3\\envs\\dsde-cedt\\lib\\site-packages (1.3.0)\n"
     ]
    }
   ],
   "source": [
    "!pip install genson"
   ]
  },
  {
   "cell_type": "code",
   "execution_count": 2,
   "metadata": {},
   "outputs": [],
   "source": [
    "import pandas as pd\n",
    "import json\n",
    "import pathlib\n",
    "from genson import SchemaBuilder"
   ]
  },
  {
   "cell_type": "code",
   "execution_count": 3,
   "metadata": {},
   "outputs": [],
   "source": [
    "schema = {}\n",
    "\n",
    "for path in pathlib.Path(\"Data 2018-2023/Project\").glob(\"*/*\"):\n",
    "    print(path)\n",
    "    with open(path.absolute()) as file:\n",
    "        data = json.load(file)\n",
    "    schema_builder = SchemaBuilder()\n",
    "    schema_builder.add_schema(schema)\n",
    "    schema_builder.add_object(data)\n",
    "    schema = schema_builder.to_schema()"
   ]
  },
  {
   "cell_type": "code",
   "execution_count": null,
   "metadata": {},
   "outputs": [],
   "source": [
    "with open(\"data_schema.json\", \"w\") as file:\n",
    "    json.dump(schema, file, indent=2)"
   ]
  }
 ],
 "metadata": {
  "kernelspec": {
   "display_name": "dsde-cedt",
   "language": "python",
   "name": "python3"
  },
  "language_info": {
   "codemirror_mode": {
    "name": "ipython",
    "version": 3
   },
   "file_extension": ".py",
   "mimetype": "text/x-python",
   "name": "python",
   "nbconvert_exporter": "python",
   "pygments_lexer": "ipython3",
   "version": "3.11.10"
  }
 },
 "nbformat": 4,
 "nbformat_minor": 2
}
