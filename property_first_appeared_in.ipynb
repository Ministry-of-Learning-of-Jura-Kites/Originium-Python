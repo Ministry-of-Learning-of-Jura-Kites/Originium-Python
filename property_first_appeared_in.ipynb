{
 "cells": [
  {
   "cell_type": "code",
   "execution_count": null,
   "metadata": {},
   "outputs": [],
   "source": [
    "import pandas as pd\n",
    "import json\n",
    "import pathlib"
   ]
  },
  {
   "cell_type": "code",
   "execution_count": null,
   "metadata": {},
   "outputs": [],
   "source": [
    "properties = {}\n",
    "\n",
    "for path in list(pathlib.Path(\"Data 2018-2023/Project\").glob(\"*/*\")):\n",
    "    print(path)\n",
    "    with open(path.absolute()) as file:\n",
    "        data = json.load(file)\n",
    "    curr_properties = pd.json_normalize(data).columns\n",
    "    for property in curr_properties:\n",
    "        if property not in properties:\n",
    "            properties[property] = path"
   ]
  },
  {
   "cell_type": "code",
   "execution_count": null,
   "metadata": {},
   "outputs": [],
   "source": [
    "with open(\"property_first_appeared_in.json\", \"w\") as file:\n",
    "    json.dump({\n",
    "        property: first_appeared_path.as_posix()\n",
    "        for property, first_appeared_path in properties.items()\n",
    "    }, file, indent=2)"
   ]
  }
 ],
 "metadata": {
  "kernelspec": {
   "display_name": "dsde-cedt",
   "language": "python",
   "name": "python3"
  },
  "language_info": {
   "codemirror_mode": {
    "name": "ipython",
    "version": 3
   },
   "file_extension": ".py",
   "mimetype": "text/x-python",
   "name": "python",
   "nbconvert_exporter": "python",
   "pygments_lexer": "ipython3",
   "version": "3.11.10"
  }
 },
 "nbformat": 4,
 "nbformat_minor": 2
}
